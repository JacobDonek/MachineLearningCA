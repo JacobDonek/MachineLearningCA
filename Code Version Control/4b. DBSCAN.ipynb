{
 "cells": [
  {
   "cell_type": "code",
   "execution_count": 549,
   "id": "e60e002d-a69e-4c1c-aa57-3b936940433b",
   "metadata": {},
   "outputs": [],
   "source": [
    "#1. Data Import + Basic Cleaning + Username/Date Prep"
   ]
  },
  {
   "cell_type": "code",
   "execution_count": 550,
   "id": "375b395a-e536-4e9b-9104-30f703d25281",
   "metadata": {},
   "outputs": [
    {
     "name": "stdout",
     "output_type": "stream",
     "text": [
      "Requirement already satisfied: emoji in c:\\users\\deean\\anaconda3\\lib\\site-packages (2.14.1)\n"
     ]
    }
   ],
   "source": [
    "#a one off step, leaving in for reference\n",
    "!pip install emoji"
   ]
  },
  {
   "cell_type": "code",
   "execution_count": 551,
   "id": "1b4b189b-47b6-4397-ab78-1416d363d88c",
   "metadata": {},
   "outputs": [
    {
     "name": "stdout",
     "output_type": "stream",
     "text": [
      "   id                                               link  \\\n",
      "0   0  https://twitter.com/HackneyPSC/status/17274436...   \n",
      "1   1  https://twitter.com/cherrysattitude/status/172...   \n",
      "2   2  https://twitter.com/diamoundgirls2/status/1710...   \n",
      "3   3  https://twitter.com/mmtchi/status/172764634165...   \n",
      "4   4  https://twitter.com/NoahIeeNG/status/172744319...   \n",
      "\n",
      "                                                text              date  likes  \\\n",
      "0  A statement from psychoanalytic activists:  Th...  11/22/2023 21:47      0   \n",
      "1                        bak bak bak bak doyamadınız  11/22/2023 15:27    443   \n",
      "2  Check out 🏒 35 + different ERIK KARLSSON cards...    10/7/2023 7:15      0   \n",
      "3  Il s'en passe des trucs pendant qu'on vous ori...  11/23/2023 11:12    381   \n",
      "4  AW OKAY.. WELL THATS COOL, IM SURE PAL WILL AP...  11/22/2023 21:45      0   \n",
      "\n",
      "   comments  \n",
      "0         0  \n",
      "1         9  \n",
      "2         0  \n",
      "3        44  \n",
      "4         0  \n"
     ]
    }
   ],
   "source": [
    "#step 1 - import the pandas library to work with the csv dataset, numpy for numerical operations, \n",
    "#regular expressions for pattern matching, emoji for emoji-related features and Standard Scaler for feature scaling\n",
    "import pandas as pd\n",
    "import numpy as np\n",
    "import re\n",
    "import emoji\n",
    "from sklearn.preprocessing import StandardScaler\n",
    "from sklearn.cluster import DBSCAN\n",
    "\n",
    "#step 2 - load the csv file with tweets\n",
    "df = pd.read_csv(\"Tweets.csv\")\n",
    "\n",
    "#step 3 - show the first 5 rows to preview the data\n",
    "print(df.head())"
   ]
  },
  {
   "cell_type": "code",
   "execution_count": 552,
   "id": "9720cda6-f5d5-4161-8327-6181076de624",
   "metadata": {},
   "outputs": [],
   "source": [
    "#step 4 - extract usernames from the tweet link\n",
    "#the username is always the fourth part after the third \"/\"\n",
    "def extract_username(link):\n",
    "    try:\n",
    "        return link.split(\"/\")[3] #this gets the username\n",
    "    except:\n",
    "        return None #if the link is missing or broken, this returns nothing\n",
    "\n",
    "df['username'] = df['link'].apply(extract_username)"
   ]
  },
  {
   "cell_type": "code",
   "execution_count": 553,
   "id": "7ac5e333-32c5-4c80-9c8f-34e4ee2d2a40",
   "metadata": {},
   "outputs": [],
   "source": [
    "#step 5 - convert the 'date' column to datetime format needed for timeline features \n",
    "df['date'] = pd.to_datetime(df['date'], errors='coerce') #errors='coerce' deals with bad data\n",
    "\n",
    "#step 6 - drop empty rows\n",
    "df.dropna(how='all', inplace=True)"
   ]
  },
  {
   "cell_type": "code",
   "execution_count": 554,
   "id": "e2510023-57a5-4233-88e0-8e7402c84e86",
   "metadata": {},
   "outputs": [
    {
     "name": "stdout",
     "output_type": "stream",
     "text": [
      "<class 'pandas.core.frame.DataFrame'>\n",
      "RangeIndex: 15498 entries, 0 to 15497\n",
      "Data columns (total 7 columns):\n",
      " #   Column    Non-Null Count  Dtype         \n",
      "---  ------    --------------  -----         \n",
      " 0   id        15498 non-null  int64         \n",
      " 1   link      15498 non-null  object        \n",
      " 2   text      15470 non-null  object        \n",
      " 3   date      15498 non-null  datetime64[ns]\n",
      " 4   likes     15498 non-null  int64         \n",
      " 5   comments  15498 non-null  int64         \n",
      " 6   username  15498 non-null  object        \n",
      "dtypes: datetime64[ns](1), int64(3), object(3)\n",
      "memory usage: 847.7+ KB\n",
      "None\n"
     ]
    }
   ],
   "source": [
    "#step 7 - print basic info to see how many columns and rows are present\n",
    "print(df.info())"
   ]
  },
  {
   "cell_type": "code",
   "execution_count": 555,
   "id": "b3f15c69-3094-46b2-beaa-0b97a4a611e8",
   "metadata": {},
   "outputs": [],
   "source": [
    "#2. Feature Extraction"
   ]
  },
  {
   "cell_type": "code",
   "execution_count": 556,
   "id": "73ab3b37-8fa9-4726-86e2-3bea50c24eb4",
   "metadata": {},
   "outputs": [],
   "source": [
    "#step 1 - count how many tweets each user posted\n",
    "tweet_count = df['username'].value_counts().rename_axis('username').reset_index(name='tweet_count')"
   ]
  },
  {
   "cell_type": "code",
   "execution_count": 557,
   "id": "39608022-8c27-4c1a-b78f-55aedcea6943",
   "metadata": {},
   "outputs": [],
   "source": [
    "#step 2 - sort tweets by user and date to calculate the gap between tweets\n",
    "df_sorted = df.sort_values(by=['username', 'date'])\n",
    "df_sorted['time_difference'] = df_sorted.groupby('username')['date'].diff().dt.total_seconds()"
   ]
  },
  {
   "cell_type": "code",
   "execution_count": 558,
   "id": "1209eb06-2683-4208-81aa-00d5a6139ec3",
   "metadata": {},
   "outputs": [],
   "source": [
    "#step 3 - calculolate average time between tweets for each user in  minutes\n",
    "average_time_between =  df_sorted.groupby('username')['time_difference'].mean().fillna(0)\n",
    "average_time_between_minutes = (average_time_between / 60).rename('average_time_between_tweets_minutes')"
   ]
  },
  {
   "cell_type": "code",
   "execution_count": 559,
   "id": "9829bb50-b15d-4396-a0c2-55979e265b1f",
   "metadata": {},
   "outputs": [],
   "source": [
    "#step 4 - check how many tweets are written in 50% >= all caps\n",
    "def is_majority_all_caps(text):\n",
    "    try:\n",
    "        words = text. split()\n",
    "        if not words:\n",
    "            return False\n",
    "        return sum(words.isupper() for word in words) / len(words) > 0.5\n",
    "    except:\n",
    "        return False\n",
    "\n",
    "percentage_all_caps = df.groupby('username')['text'].apply(\n",
    "    lambda tweets: np.mean([is_majority_all_caps(t) for t in tweets])\n",
    ").rename('percentage_of_tweets_with_all_caps')"
   ]
  },
  {
   "cell_type": "code",
   "execution_count": 560,
   "id": "f43e4a9d-4b69-4115-9ce6-175c20131832",
   "metadata": {},
   "outputs": [],
   "source": [
    "#step 5 - count average number of emojis in each tweet\n",
    "def count_emojis(text):\n",
    "    if not isinstance(text, str):\n",
    "        return 0 \n",
    "    return sum (1 for c in text if c in emoji.EMOJI_DATA)\n",
    "\n",
    "average_emoji_count = df.groupby('username')['text'].apply(\n",
    "    lambda tweets: np.mean([count_emojis(t) for t in tweets])\n",
    ").rename('average_emoji_count_per_tweet')"
   ]
  },
  {
   "cell_type": "code",
   "execution_count": 561,
   "id": "f688e951-40b7-4c2f-bf7d-398fac00171f",
   "metadata": {},
   "outputs": [],
   "source": [
    "#step 6 - track emotionally intense language using a lexicon\n",
    "emotional_words = set()\n",
    "target_emotions = {'anger', 'fear', 'disgust', 'sadness', 'negative'} #this focuses on words that fall under these categories\n",
    "\n",
    "with open(\"NRC-Emotion-Lexicon-Wordlevel-v0.92.txt\", \"r\", encoding=\"utf-8\") as file:\n",
    "    for line in file:\n",
    "        parts = line.strip().split(\"\\t\")\n",
    "        if len(parts) ==3:\n",
    "            word, emotion, assoc = parts\n",
    "            if assoc =='1' and emotion in target_emotions:\n",
    "                emotional_words.add(word)\n",
    "\n",
    "def count_emotional_words(text):\n",
    "    if not isinstance(text, str):\n",
    "        return 0\n",
    "    words = re.findall(r'\\b\\w+\\b', text.lower())\n",
    "    return sum(word in emotional_words for word in words)\n",
    "\n",
    "average_emotion_words = df.groupby('username')['text'].apply(\n",
    "    lambda tweets: np.mean([count_emotional_words(t) for t in tweets])\n",
    ").rename('average_emotionally_charged_words_per_tweet')"
   ]
  },
  {
   "cell_type": "code",
   "execution_count": 562,
   "id": "70341b2e-8edb-41b9-a7aa-c5c287a0fb72",
   "metadata": {},
   "outputs": [],
   "source": [
    "#step 7 - calculate tweet length average per user\n",
    "average_tweet_length = df.groupby('username')['text'].apply(\n",
    "    lambda tweets: np.mean([len(str(t)) for t in tweets])\n",
    ").rename('average_tweet_length')"
   ]
  },
  {
   "cell_type": "code",
   "execution_count": 563,
   "id": "83e24a95-2fef-4ea0-a6c1-5da8f573b805",
   "metadata": {},
   "outputs": [],
   "source": [
    "#step 8 - count average number of hashtags per tweet \n",
    "def count_hashtags(text):\n",
    "    return len(re.findall(r'#\\w+', str(text)))\n",
    "\n",
    "average_hashtags = df.groupby('username')['text'].apply(\n",
    "    lambda tweets: np.mean([count_hashtags(t) for t in tweets])\n",
    ").rename('average_hashtag_frequency_per_tweet')"
   ]
  },
  {
   "cell_type": "code",
   "execution_count": 564,
   "id": "4b11c780-cde5-4e24-adf6-789ac9a83ba7",
   "metadata": {},
   "outputs": [],
   "source": [
    "#step 9 - set tweet count index to match others\n",
    "tweet_count = tweet_count.set_index('username')"
   ]
  },
  {
   "cell_type": "code",
   "execution_count": 565,
   "id": "0580dfad-ccda-400a-bdfa-e0a209be0dbc",
   "metadata": {},
   "outputs": [],
   "source": [
    "#step 10 - combine all features coded until now into one dataset\n",
    "feature_matrix = pd.concat([\n",
    "    tweet_count,\n",
    "    average_time_between_minutes,\n",
    "    percentage_all_caps,\n",
    "    average_emoji_count,\n",
    "    average_emotion_words,\n",
    "    average_tweet_length,\n",
    "    average_hashtags\n",
    "], axis=1)"
   ]
  },
  {
   "cell_type": "code",
   "execution_count": 566,
   "id": "b1c2335d-9652-478e-a842-0d1b23df7ab2",
   "metadata": {},
   "outputs": [],
   "source": [
    "#step 10a - adding tweet length cap as this distorted the plot with outliers being too far from the centroid\n",
    "feature_matrix['average_tweet_length'] = feature_matrix['average_tweet_length'].clip(upper=1000)"
   ]
  },
  {
   "cell_type": "code",
   "execution_count": 567,
   "id": "1ae9f85b-ded7-4bc1-8034-bbaa40a778cc",
   "metadata": {},
   "outputs": [
    {
     "name": "stdout",
     "output_type": "stream",
     "text": [
      "                 tweet_count  average_time_between_tweets_minutes  \\\n",
      "username                                                            \n",
      "Novytique                 84                            45.156627   \n",
      "salusalemchalom           48                             5.851064   \n",
      "Kuwait_KW01               38                           102.054054   \n",
      "diamoundgirls2            37                            27.305556   \n",
      "AvivaKlompas              31                           958.433333   \n",
      "\n",
      "                 percentage_of_tweets_with_all_caps  \\\n",
      "username                                              \n",
      "Novytique                                       0.0   \n",
      "salusalemchalom                                 0.0   \n",
      "Kuwait_KW01                                     0.0   \n",
      "diamoundgirls2                                  0.0   \n",
      "AvivaKlompas                                    0.0   \n",
      "\n",
      "                 average_emoji_count_per_tweet  \\\n",
      "username                                         \n",
      "Novytique                             0.000000   \n",
      "salusalemchalom                       0.000000   \n",
      "Kuwait_KW01                           0.210526   \n",
      "diamoundgirls2                        1.081081   \n",
      "AvivaKlompas                          0.419355   \n",
      "\n",
      "                 average_emotionally_charged_words_per_tweet  \\\n",
      "username                                                       \n",
      "Novytique                                           0.000000   \n",
      "salusalemchalom                                     0.000000   \n",
      "Kuwait_KW01                                         0.315789   \n",
      "diamoundgirls2                                      0.108108   \n",
      "AvivaKlompas                                        2.709677   \n",
      "\n",
      "                 average_tweet_length  average_hashtag_frequency_per_tweet  \n",
      "username                                                                    \n",
      "Novytique                  239.678571                            10.000000  \n",
      "salusalemchalom            190.041667                             0.000000  \n",
      "Kuwait_KW01                172.447368                             4.394737  \n",
      "diamoundgirls2             407.675676                             4.081081  \n",
      "AvivaKlompas               286.354839                             0.064516  \n"
     ]
    }
   ],
   "source": [
    "#step 11 - chech the final result\n",
    "print(feature_matrix.head())"
   ]
  },
  {
   "cell_type": "code",
   "execution_count": 568,
   "id": "52e22102-a4ab-4589-8d96-daed3e2a0c94",
   "metadata": {},
   "outputs": [],
   "source": [
    "#3. Feature Scaling"
   ]
  },
  {
   "cell_type": "code",
   "execution_count": 569,
   "id": "7042bd16-babb-4d8e-a8de-42ba573628a5",
   "metadata": {},
   "outputs": [],
   "source": [
    "#step 1 - use StandardScaler to normalise all values so they are similar in range\n",
    "scaler = StandardScaler()\n",
    "scaled_features = scaler.fit_transform(feature_matrix)"
   ]
  },
  {
   "cell_type": "code",
   "execution_count": 570,
   "id": "9af9d299-e49c-491a-8a5d-c518aa17ac14",
   "metadata": {},
   "outputs": [],
   "source": [
    "#step 2 - convert back to dataframe so we can still see column names\n",
    "scaled_df = pd.DataFrame(scaled_features, columns=feature_matrix.columns, index=feature_matrix.index)"
   ]
  },
  {
   "cell_type": "code",
   "execution_count": 571,
   "id": "94070868-496c-48cc-a6e7-0700c9343d5c",
   "metadata": {},
   "outputs": [
    {
     "name": "stdout",
     "output_type": "stream",
     "text": [
      "                 tweet_count  average_time_between_tweets_minutes  \\\n",
      "username                                                            \n",
      "Novytique          46.443893                            -0.038475   \n",
      "salusalemchalom    26.189500                            -0.040856   \n",
      "Kuwait_KW01        20.563280                            -0.035029   \n",
      "diamoundgirls2     20.000658                            -0.039557   \n",
      "AvivaKlompas       16.624925                             0.016839   \n",
      "\n",
      "                 percentage_of_tweets_with_all_caps  \\\n",
      "username                                              \n",
      "Novytique                                       0.0   \n",
      "salusalemchalom                                 0.0   \n",
      "Kuwait_KW01                                     0.0   \n",
      "diamoundgirls2                                  0.0   \n",
      "AvivaKlompas                                    0.0   \n",
      "\n",
      "                 average_emoji_count_per_tweet  \\\n",
      "username                                         \n",
      "Novytique                            -0.157956   \n",
      "salusalemchalom                      -0.157956   \n",
      "Kuwait_KW01                          -0.037306   \n",
      "diamoundgirls2                        0.461595   \n",
      "AvivaKlompas                          0.082370   \n",
      "\n",
      "                 average_emotionally_charged_words_per_tweet  \\\n",
      "username                                                       \n",
      "Novytique                                          -0.515326   \n",
      "salusalemchalom                                    -0.515326   \n",
      "Kuwait_KW01                                        -0.401186   \n",
      "diamoundgirls2                                     -0.476251   \n",
      "AvivaKlompas                                        0.464064   \n",
      "\n",
      "                 average_tweet_length  average_hashtag_frequency_per_tweet  \n",
      "username                                                                    \n",
      "Novytique                    0.446807                             5.884834  \n",
      "salusalemchalom              0.063675                            -0.276957  \n",
      "Kuwait_KW01                 -0.072130                             2.430988  \n",
      "diamoundgirls2               1.743523                             2.237720  \n",
      "AvivaKlompas                 0.807086                            -0.237203  \n"
     ]
    }
   ],
   "source": [
    "#step 3 - check the final scaled values\n",
    "print(scaled_df.head())"
   ]
  },
  {
   "cell_type": "code",
   "execution_count": 572,
   "id": "7d3fe2f3-69e4-4729-a527-5c4efe2cb37d",
   "metadata": {},
   "outputs": [],
   "source": [
    "#4. DBSCAN "
   ]
  },
  {
   "cell_type": "code",
   "execution_count": 573,
   "id": "920b27b1-d278-4991-a70c-ce25b150ed6c",
   "metadata": {},
   "outputs": [],
   "source": [
    "#step 1 - apply DBSCAN clustering to the scaled features\n",
    "dbscan = DBSCAN(eps=1.2, min_samples=5)\n",
    "dbscan_labels = dbscan.fit_predict(scaled_df)"
   ]
  },
  {
   "cell_type": "code",
   "execution_count": 574,
   "id": "8399f8a2-bc1c-4a95-9f04-7ae7943d07d5",
   "metadata": {},
   "outputs": [],
   "source": [
    "#step 2 - assign DBSCAN labels back to the dataframe\n",
    "feature_matrix['dbscan_cluster'] = dbscan_labels\n",
    "df = df.merge(feature_matrix['dbscan_cluster'], left_on='username', right_index=True, how='left')"
   ]
  },
  {
   "cell_type": "code",
   "execution_count": 575,
   "id": "52add5e9-8974-416a-966b-5b906f9b52b2",
   "metadata": {},
   "outputs": [
    {
     "name": "stdout",
     "output_type": "stream",
     "text": [
      "DBSCAN labels count:\n",
      "dbscan_cluster\n",
      " 1    10519\n",
      "-1      151\n",
      " 2        6\n",
      " 0        5\n",
      "Name: count, dtype: int64\n"
     ]
    }
   ],
   "source": [
    "#step 3 - check how many clusters and outliers are found\n",
    "print(\"DBSCAN labels count:\")\n",
    "print(feature_matrix['dbscan_cluster'].value_counts())"
   ]
  },
  {
   "cell_type": "code",
   "execution_count": 576,
   "id": "e796cb47-b1e4-4200-9aaf-2e3405eff5b3",
   "metadata": {},
   "outputs": [
    {
     "name": "stdout",
     "output_type": "stream",
     "text": [
      "                 tweet_count  average_time_between_tweets_minutes  \\\n",
      "username                                                            \n",
      "Novytique                 84                            45.156627   \n",
      "salusalemchalom           48                             5.851064   \n",
      "Kuwait_KW01               38                           102.054054   \n",
      "diamoundgirls2            37                            27.305556   \n",
      "AvivaKlompas              31                           958.433333   \n",
      "jacksonhinklle            29                          2059.000000   \n",
      "EviesSantiago             26                          1155.280000   \n",
      "everydropoftear           24                            15.260870   \n",
      "MaxChar13                 23                            11.727273   \n",
      "EPLPeter                  20                             1.263158   \n",
      "\n",
      "                 percentage_of_tweets_with_all_caps  \\\n",
      "username                                              \n",
      "Novytique                                       0.0   \n",
      "salusalemchalom                                 0.0   \n",
      "Kuwait_KW01                                     0.0   \n",
      "diamoundgirls2                                  0.0   \n",
      "AvivaKlompas                                    0.0   \n",
      "jacksonhinklle                                  0.0   \n",
      "EviesSantiago                                   0.0   \n",
      "everydropoftear                                 0.0   \n",
      "MaxChar13                                       0.0   \n",
      "EPLPeter                                        0.0   \n",
      "\n",
      "                 average_emoji_count_per_tweet  \\\n",
      "username                                         \n",
      "Novytique                             0.000000   \n",
      "salusalemchalom                       0.000000   \n",
      "Kuwait_KW01                           0.210526   \n",
      "diamoundgirls2                        1.081081   \n",
      "AvivaKlompas                          0.419355   \n",
      "jacksonhinklle                        1.172414   \n",
      "EviesSantiago                         0.076923   \n",
      "everydropoftear                       0.000000   \n",
      "MaxChar13                             1.391304   \n",
      "EPLPeter                              0.000000   \n",
      "\n",
      "                 average_emotionally_charged_words_per_tweet  \\\n",
      "username                                                       \n",
      "Novytique                                           0.000000   \n",
      "salusalemchalom                                     0.000000   \n",
      "Kuwait_KW01                                         0.315789   \n",
      "diamoundgirls2                                      0.108108   \n",
      "AvivaKlompas                                        2.709677   \n",
      "jacksonhinklle                                      0.724138   \n",
      "EviesSantiago                                       0.192308   \n",
      "everydropoftear                                     0.791667   \n",
      "MaxChar13                                           0.086957   \n",
      "EPLPeter                                            0.150000   \n",
      "\n",
      "                 average_tweet_length  average_hashtag_frequency_per_tweet  \\\n",
      "username                                                                     \n",
      "Novytique                  239.678571                            10.000000   \n",
      "salusalemchalom            190.041667                             0.000000   \n",
      "Kuwait_KW01                172.447368                             4.394737   \n",
      "diamoundgirls2             407.675676                             4.081081   \n",
      "AvivaKlompas               286.354839                             0.064516   \n",
      "jacksonhinklle              83.448276                             0.000000   \n",
      "EviesSantiago              217.423077                             4.000000   \n",
      "everydropoftear            275.750000                            10.000000   \n",
      "MaxChar13                  114.695652                             3.000000   \n",
      "EPLPeter                    84.650000                             0.000000   \n",
      "\n",
      "                 dbscan_cluster  \n",
      "username                         \n",
      "Novytique                    -1  \n",
      "salusalemchalom              -1  \n",
      "Kuwait_KW01                  -1  \n",
      "diamoundgirls2               -1  \n",
      "AvivaKlompas                 -1  \n",
      "jacksonhinklle               -1  \n",
      "EviesSantiago                -1  \n",
      "everydropoftear              -1  \n",
      "MaxChar13                    -1  \n",
      "EPLPeter                     -1  \n"
     ]
    }
   ],
   "source": [
    "#step 4 - outlier (-1) preview\n",
    "outliers = feature_matrix[feature_matrix['dbscan_cluster'] == -1]\n",
    "print(outliers.sort_values(by='tweet_count', ascending=False).head(10))"
   ]
  },
  {
   "cell_type": "code",
   "execution_count": 577,
   "id": "1959a60d-0feb-484b-902e-70d9a1bd25fe",
   "metadata": {},
   "outputs": [],
   "source": [
    "#step 5 - week column to track tweets per week\n",
    "df['week'] = df['date'].dt.to_period('W').astype(str)"
   ]
  },
  {
   "cell_type": "code",
   "execution_count": 578,
   "id": "5cf4b17c-42fa-41ce-9285-8550a92a69b9",
   "metadata": {},
   "outputs": [],
   "source": [
    "#step 6 - assign dbscan cluster labels to users in the feature matrix\n",
    "feature_matrix['dbscan_cluster'] = dbscan.labels_"
   ]
  },
  {
   "cell_type": "code",
   "execution_count": 579,
   "id": "67bd588a-7640-4aa7-a0e6-66f99a8c7df4",
   "metadata": {},
   "outputs": [],
   "source": [
    "#step 7 - merge this back into the main dataframe by username\n",
    "df = df.drop(columns=['dbscan_cluster'], errors='ignore')\n",
    "df = df.merge(feature_matrix[['dbscan_cluster']], left_on='username', right_index=True, how='left')"
   ]
  },
  {
   "cell_type": "code",
   "execution_count": 580,
   "id": "aa5bea20-6bd8-4efd-8c34-cdde364e1ccf",
   "metadata": {},
   "outputs": [],
   "source": [
    "#step 8 - group by username and week to calculate weekly feature changes\n",
    "dbscan_weekly = df.groupby(['username', 'week']).agg(\n",
    "    weekly_tweet_count=('text', 'count'),\n",
    "    average_tweet_length=('text', lambda t: np.mean([len(str(x)) for x in t])),\n",
    "    total_emojis=('text', lambda t: sum(count_emojis(x) for x in t)),\n",
    "    total_emotional_words=('text', lambda t: sum(count_emotional_words(x) for x in t)),\n",
    "    average_time_between_tweets_minutesh=('date', lambda d: d.sort_values().diff().dt.total_seconds().mean() / 60 if len(d) > 1 else 0),\n",
    "    dbscan_cluster=('dbscan_cluster', 'first')\n",
    ").reset_index()"
   ]
  },
  {
   "cell_type": "code",
   "execution_count": 581,
   "id": "a63e52c1-baed-437e-ae34-c205f769dd62",
   "metadata": {},
   "outputs": [
    {
     "name": "stdout",
     "output_type": "stream",
     "text": [
      "      username                   week  weekly_tweet_count  \\\n",
      "0    001Flight  2023-12-11/2023-12-17                   1   \n",
      "1    0130Coach  2023-12-11/2023-12-17                   1   \n",
      "2       01IOTA  2023-12-11/2023-12-17                   1   \n",
      "3  021Scenario  2023-12-11/2023-12-17                   1   \n",
      "4        06Kiu  2023-11-20/2023-11-26                   1   \n",
      "\n",
      "   average_tweet_length  total_emojis  total_emotional_words  \\\n",
      "0                  63.0             0                      1   \n",
      "1                 453.0             0                      8   \n",
      "2                 280.0             0                      2   \n",
      "3                  40.0             0                      0   \n",
      "4                  73.0             0                      0   \n",
      "\n",
      "   average_time_between_tweets_minutesh  dbscan_cluster  \n",
      "0                                   0.0               1  \n",
      "1                                   0.0               1  \n",
      "2                                   0.0               1  \n",
      "3                                   0.0               1  \n",
      "4                                   0.0               1  \n"
     ]
    }
   ],
   "source": [
    "#step 9 - preview the weekly tracking\n",
    "print(dbscan_weekly.head())"
   ]
  },
  {
   "cell_type": "code",
   "execution_count": 582,
   "id": "8b9f06a3-4201-49fc-a0ca-5a8ccd957830",
   "metadata": {},
   "outputs": [],
   "source": [
    "#step 10 - choose a user to analyse\n",
    "selected_user = \"Kuwait_KW01\" #this user has the highest tweets posted"
   ]
  },
  {
   "cell_type": "code",
   "execution_count": 583,
   "id": "895d87fd-67d5-4459-a699-75dda90759b4",
   "metadata": {},
   "outputs": [],
   "source": [
    "#step 11 - filter weekly metrics just for this user\n",
    "user_weekly = dbscan_weekly[dbscan_weekly['username'] == selected_user].sort_values('week')"
   ]
  },
  {
   "cell_type": "code",
   "execution_count": 584,
   "id": "807e3254-7cd0-41a2-a171-826d1d70658e",
   "metadata": {},
   "outputs": [],
   "source": [
    "#step 12 - features to plot\n",
    "features_to_plot = [\n",
    "    'weekly_tweet_count',\n",
    "    'total_emojis',\n",
    "    'total_emotional_words',\n",
    "    'average_tweet_length'\n",
    "]"
   ]
  },
  {
   "cell_type": "code",
   "execution_count": 585,
   "id": "4223c9df-b05b-4c94-a4f8-d9ba9a6344c6",
   "metadata": {},
   "outputs": [
    {
     "data": {
      "image/png": "[encoded data removed]",
      "text/plain": [
       "<Figure size 1200x600 with 1 Axes>"
      ]
     },
     "metadata": {},
     "output_type": "display_data"
    }
   ],
   "source": [
    "#step 13 - create a line plot to show behavioural changes over weeks\n",
    "import matplotlib.pyplot as plt\n",
    "\n",
    "plt.figure(figsize=(12, 6))\n",
    "for feature in features_to_plot:\n",
    "    plt.plot(user_weekly['week'], user_weekly[feature], marker='o', label=feature)\n",
    "\n",
    "plt.title(f\"Weekly Behaviour Trends for @Kuwait_KW01\")\n",
    "plt.xlabel(\"Week\")\n",
    "plt.ylabel(\"Count/Average\")\n",
    "plt.xticks(rotation=45)\n",
    "plt.legend()\n",
    "plt.grid(True)\n",
    "plt.tight_layout()\n",
    "plt.show()"
   ]
  },
  {
   "cell_type": "code",
   "execution_count": 586,
   "id": "82d5af7a-42ee-4853-8101-5d2ca5901d7a",
   "metadata": {},
   "outputs": [
    {
     "data": {
      "image/png": "[encoded data removed]",
      "text/plain": [
       "<Figure size 1000x600 with 2 Axes>"
      ]
     },
     "metadata": {},
     "output_type": "display_data"
    }
   ],
   "source": [
    "# step 13 again - PCA \n",
    "from sklearn.decomposition import PCA\n",
    "import matplotlib.pyplot as plt\n",
    "\n",
    "pca = PCA(n_components=2)\n",
    "pca_components = pca.fit_transform(scaled_df)\n",
    "\n",
    "#create a dataframe for plotting\n",
    "pca_df = pd.DataFrame(data=pca_components, columns=['PCA1', 'PCA2'])\n",
    "pca_df['cluster'] = feature_matrix['dbscan_cluster'].values\n",
    "\n",
    "plt.figure(figsize=(10, 6))\n",
    "scatter = plt.scatter(pca_df['PCA1'], pca_df['PCA2'], c=pca_df['cluster'], cmap='tab10', alpha=0.5)\n",
    "plt.title('DBSCAN Clusters Visualised with PCA')\n",
    "plt.xlabel('PCA Component 1')\n",
    "plt.ylabel('PCA Component 2')\n",
    "plt.colorbar(scatter, label='DBSCAN Cluster')\n",
    "plt.grid(True)\n",
    "plt.tight_layout()\n",
    "plt.show()"
   ]
  }
 ],
 "metadata": {
  "kernelspec": {
   "display_name": "Python [conda env:base] *",
   "language": "python",
   "name": "conda-base-py"
  },
  "language_info": {
   "codemirror_mode": {
    "name": "ipython",
    "version": 3
   },
   "file_extension": ".py",
   "mimetype": "text/x-python",
   "name": "python",
   "nbconvert_exporter": "python",
   "pygments_lexer": "ipython3",
   "version": "3.12.7"
  }
 },
 "nbformat": 4,
 "nbformat_minor": 5
}

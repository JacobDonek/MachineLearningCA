{
 "cells": [
  {
   "cell_type": "code",
   "execution_count": null,
   "id": "1b4b189b-47b6-4397-ab78-1416d363d88c",
   "metadata": {},
   "outputs": [],
   "source": [
    "#step 1 - import the pandas library to work with the csv dataset\n",
    "import pandas as pd\n",
    "\n",
    "#step 2 - load the csv file with tweets\n",
    "df = pd.read_csv(\"Tweets.csv\")\n",
    "\n",
    "#step 3 - show the first 5 rows to preview the data\n",
    "print(df.head())"
   ]
  },
  {
   "cell_type": "code",
   "execution_count": 5,
   "id": "9720cda6-f5d5-4161-8327-6181076de624",
   "metadata": {},
   "outputs": [],
   "source": [
    "#step 4 - extract usernames from the tweet link\n",
    "#the username is always the fourth part after the third \"/\"\n",
    "def extract_username(link):\n",
    "    try:\n",
    "        return link.split(\"/\")[3] #this gets the username\n",
    "    except:\n",
    "        return None #if the link is missing or broken, this returns nothing\n",
    "\n",
    "df['username'] = df['link'].apply(extract_username)"
   ]
  },
  {
   "cell_type": "code",
   "execution_count": 7,
   "id": "7ac5e333-32c5-4c80-9c8f-34e4ee2d2a40",
   "metadata": {},
   "outputs": [],
   "source": [
    "#step 5 - convert the 'date' column to datetime format needed for timeline features \n",
    "df['date'] = pd.to_datetime(df['date'], errors='coerce') #errors='coerce' deals with bad data\n",
    "\n",
    "#step 6 - drop empty rows\n",
    "df.dropna(how='all', inplace=True)"
   ]
  },
  {
   "cell_type": "code",
   "execution_count": 9,
   "id": "e2510023-57a5-4233-88e0-8e7402c84e86",
   "metadata": {},
   "outputs": [
    {
     "name": "stdout",
     "output_type": "stream",
     "text": [
      "<class 'pandas.core.frame.DataFrame'>\n",
      "RangeIndex: 15498 entries, 0 to 15497\n",
      "Data columns (total 7 columns):\n",
      " #   Column    Non-Null Count  Dtype         \n",
      "---  ------    --------------  -----         \n",
      " 0   id        15498 non-null  int64         \n",
      " 1   link      15498 non-null  object        \n",
      " 2   text      15470 non-null  object        \n",
      " 3   date      15498 non-null  datetime64[ns]\n",
      " 4   likes     15498 non-null  int64         \n",
      " 5   comments  15498 non-null  int64         \n",
      " 6   username  15498 non-null  object        \n",
      "dtypes: datetime64[ns](1), int64(3), object(3)\n",
      "memory usage: 847.7+ KB\n",
      "None\n"
     ]
    }
   ],
   "source": [
    "#step 7 - print basic info to see how many columns and rows are present\n",
    "print(df.info())"
   ]
  },
  {
   "cell_type": "code",
   "execution_count": null,
   "id": "e60e002d-a69e-4c1c-aa57-3b936940433b",
   "metadata": {},
   "outputs": [],
   "source": []
  }
 ],
 "metadata": {
  "kernelspec": {
   "display_name": "Python [conda env:base] *",
   "language": "python",
   "name": "conda-base-py"
  },
  "language_info": {
   "codemirror_mode": {
    "name": "ipython",
    "version": 3
   },
   "file_extension": ".py",
   "mimetype": "text/x-python",
   "name": "python",
   "nbconvert_exporter": "python",
   "pygments_lexer": "ipython3",
   "version": "3.12.7"
  }
 },
 "nbformat": 4,
 "nbformat_minor": 5
}
